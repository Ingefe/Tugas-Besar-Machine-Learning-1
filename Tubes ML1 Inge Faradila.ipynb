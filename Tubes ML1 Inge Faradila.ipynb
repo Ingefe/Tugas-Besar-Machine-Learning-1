{
 "cells": [
  {
   "cell_type": "markdown",
   "id": "6bb16a2c",
   "metadata": {},
   "source": [
    "# Import Library"
   ]
  },
  {
   "cell_type": "code",
   "execution_count": 59,
   "id": "18f769f8",
   "metadata": {},
   "outputs": [],
   "source": [
    "import pandas as pd\n",
    "import numpy as np\n",
    "import matplotlib.pyplot as plt\n",
    "import warnings\n",
    "import seaborn as sns\n",
    "from sklearn.decomposition import PCA\n",
    "from sklearn.preprocessing import StandardScaler\n",
    "from sklearn.preprocessing import OneHotEncoder\n",
    "from sklearn.preprocessing import LabelEncoder\n",
    "from sklearn.impute import SimpleImputer\n",
    "from sklearn.cluster import KMeans\n",
    "\n",
    "warnings.filterwarnings(\"ignore\", category=FutureWarning)"
   ]
  },
  {
   "cell_type": "markdown",
   "id": "73c851c7",
   "metadata": {},
   "source": [
    "# Load Dataset , Prepocessing, dan EDA"
   ]
  },
  {
   "cell_type": "code",
   "execution_count": 60,
   "id": "6515bd78",
   "metadata": {},
   "outputs": [
    {
     "data": {
      "text/html": [
       "<div>\n",
       "<style scoped>\n",
       "    .dataframe tbody tr th:only-of-type {\n",
       "        vertical-align: middle;\n",
       "    }\n",
       "\n",
       "    .dataframe tbody tr th {\n",
       "        vertical-align: top;\n",
       "    }\n",
       "\n",
       "    .dataframe thead th {\n",
       "        text-align: right;\n",
       "    }\n",
       "</style>\n",
       "<table border=\"1\" class=\"dataframe\">\n",
       "  <thead>\n",
       "    <tr style=\"text-align: right;\">\n",
       "      <th></th>\n",
       "      <th>CustomerID</th>\n",
       "      <th>Genre</th>\n",
       "      <th>Age</th>\n",
       "      <th>Annual Income (k$)</th>\n",
       "      <th>Spending Score (1-100)</th>\n",
       "    </tr>\n",
       "  </thead>\n",
       "  <tbody>\n",
       "    <tr>\n",
       "      <th>0</th>\n",
       "      <td>1</td>\n",
       "      <td>Male</td>\n",
       "      <td>19</td>\n",
       "      <td>15</td>\n",
       "      <td>39</td>\n",
       "    </tr>\n",
       "    <tr>\n",
       "      <th>1</th>\n",
       "      <td>2</td>\n",
       "      <td>Male</td>\n",
       "      <td>21</td>\n",
       "      <td>15</td>\n",
       "      <td>81</td>\n",
       "    </tr>\n",
       "    <tr>\n",
       "      <th>2</th>\n",
       "      <td>3</td>\n",
       "      <td>Female</td>\n",
       "      <td>20</td>\n",
       "      <td>16</td>\n",
       "      <td>6</td>\n",
       "    </tr>\n",
       "    <tr>\n",
       "      <th>3</th>\n",
       "      <td>4</td>\n",
       "      <td>Female</td>\n",
       "      <td>23</td>\n",
       "      <td>16</td>\n",
       "      <td>77</td>\n",
       "    </tr>\n",
       "    <tr>\n",
       "      <th>4</th>\n",
       "      <td>5</td>\n",
       "      <td>Female</td>\n",
       "      <td>31</td>\n",
       "      <td>17</td>\n",
       "      <td>40</td>\n",
       "    </tr>\n",
       "    <tr>\n",
       "      <th>...</th>\n",
       "      <td>...</td>\n",
       "      <td>...</td>\n",
       "      <td>...</td>\n",
       "      <td>...</td>\n",
       "      <td>...</td>\n",
       "    </tr>\n",
       "    <tr>\n",
       "      <th>195</th>\n",
       "      <td>196</td>\n",
       "      <td>Female</td>\n",
       "      <td>35</td>\n",
       "      <td>120</td>\n",
       "      <td>79</td>\n",
       "    </tr>\n",
       "    <tr>\n",
       "      <th>196</th>\n",
       "      <td>197</td>\n",
       "      <td>Female</td>\n",
       "      <td>45</td>\n",
       "      <td>126</td>\n",
       "      <td>28</td>\n",
       "    </tr>\n",
       "    <tr>\n",
       "      <th>197</th>\n",
       "      <td>198</td>\n",
       "      <td>Male</td>\n",
       "      <td>32</td>\n",
       "      <td>126</td>\n",
       "      <td>74</td>\n",
       "    </tr>\n",
       "    <tr>\n",
       "      <th>198</th>\n",
       "      <td>199</td>\n",
       "      <td>Male</td>\n",
       "      <td>32</td>\n",
       "      <td>137</td>\n",
       "      <td>18</td>\n",
       "    </tr>\n",
       "    <tr>\n",
       "      <th>199</th>\n",
       "      <td>200</td>\n",
       "      <td>Male</td>\n",
       "      <td>30</td>\n",
       "      <td>137</td>\n",
       "      <td>83</td>\n",
       "    </tr>\n",
       "  </tbody>\n",
       "</table>\n",
       "<p>200 rows × 5 columns</p>\n",
       "</div>"
      ],
      "text/plain": [
       "     CustomerID   Genre  Age  Annual Income (k$)  Spending Score (1-100)\n",
       "0             1    Male   19                  15                      39\n",
       "1             2    Male   21                  15                      81\n",
       "2             3  Female   20                  16                       6\n",
       "3             4  Female   23                  16                      77\n",
       "4             5  Female   31                  17                      40\n",
       "..          ...     ...  ...                 ...                     ...\n",
       "195         196  Female   35                 120                      79\n",
       "196         197  Female   45                 126                      28\n",
       "197         198    Male   32                 126                      74\n",
       "198         199    Male   32                 137                      18\n",
       "199         200    Male   30                 137                      83\n",
       "\n",
       "[200 rows x 5 columns]"
      ]
     },
     "execution_count": 60,
     "metadata": {},
     "output_type": "execute_result"
    }
   ],
   "source": [
    "data_MallCus = pd.read_csv('Mall_Customers.csv')\n",
    "data_MallCus"
   ]
  },
  {
   "cell_type": "code",
   "execution_count": 61,
   "id": "9c8ef346",
   "metadata": {},
   "outputs": [
    {
     "data": {
      "text/html": [
       "<div>\n",
       "<style scoped>\n",
       "    .dataframe tbody tr th:only-of-type {\n",
       "        vertical-align: middle;\n",
       "    }\n",
       "\n",
       "    .dataframe tbody tr th {\n",
       "        vertical-align: top;\n",
       "    }\n",
       "\n",
       "    .dataframe thead th {\n",
       "        text-align: right;\n",
       "    }\n",
       "</style>\n",
       "<table border=\"1\" class=\"dataframe\">\n",
       "  <thead>\n",
       "    <tr style=\"text-align: right;\">\n",
       "      <th></th>\n",
       "      <th>CustomerID</th>\n",
       "      <th>Genre</th>\n",
       "      <th>Age</th>\n",
       "      <th>Annual Income (k$)</th>\n",
       "      <th>Spending Score (1-100)</th>\n",
       "    </tr>\n",
       "  </thead>\n",
       "  <tbody>\n",
       "    <tr>\n",
       "      <th>0</th>\n",
       "      <td>1</td>\n",
       "      <td>Male</td>\n",
       "      <td>19</td>\n",
       "      <td>15</td>\n",
       "      <td>39</td>\n",
       "    </tr>\n",
       "    <tr>\n",
       "      <th>1</th>\n",
       "      <td>2</td>\n",
       "      <td>Male</td>\n",
       "      <td>21</td>\n",
       "      <td>15</td>\n",
       "      <td>81</td>\n",
       "    </tr>\n",
       "    <tr>\n",
       "      <th>2</th>\n",
       "      <td>3</td>\n",
       "      <td>Female</td>\n",
       "      <td>20</td>\n",
       "      <td>16</td>\n",
       "      <td>6</td>\n",
       "    </tr>\n",
       "    <tr>\n",
       "      <th>3</th>\n",
       "      <td>4</td>\n",
       "      <td>Female</td>\n",
       "      <td>23</td>\n",
       "      <td>16</td>\n",
       "      <td>77</td>\n",
       "    </tr>\n",
       "    <tr>\n",
       "      <th>4</th>\n",
       "      <td>5</td>\n",
       "      <td>Female</td>\n",
       "      <td>31</td>\n",
       "      <td>17</td>\n",
       "      <td>40</td>\n",
       "    </tr>\n",
       "  </tbody>\n",
       "</table>\n",
       "</div>"
      ],
      "text/plain": [
       "   CustomerID   Genre  Age  Annual Income (k$)  Spending Score (1-100)\n",
       "0           1    Male   19                  15                      39\n",
       "1           2    Male   21                  15                      81\n",
       "2           3  Female   20                  16                       6\n",
       "3           4  Female   23                  16                      77\n",
       "4           5  Female   31                  17                      40"
      ]
     },
     "execution_count": 61,
     "metadata": {},
     "output_type": "execute_result"
    }
   ],
   "source": [
    "data_MallCus .head()"
   ]
  },
  {
   "cell_type": "code",
   "execution_count": 62,
   "id": "391b9d24",
   "metadata": {},
   "outputs": [
    {
     "name": "stdout",
     "output_type": "stream",
     "text": [
      "<class 'pandas.core.frame.DataFrame'>\n",
      "RangeIndex: 200 entries, 0 to 199\n",
      "Data columns (total 5 columns):\n",
      " #   Column                  Non-Null Count  Dtype \n",
      "---  ------                  --------------  ----- \n",
      " 0   CustomerID              200 non-null    int64 \n",
      " 1   Genre                   200 non-null    object\n",
      " 2   Age                     200 non-null    int64 \n",
      " 3   Annual Income (k$)      200 non-null    int64 \n",
      " 4   Spending Score (1-100)  200 non-null    int64 \n",
      "dtypes: int64(4), object(1)\n",
      "memory usage: 7.9+ KB\n"
     ]
    }
   ],
   "source": [
    "data_MallCus.info()"
   ]
  },
  {
   "cell_type": "code",
   "execution_count": 63,
   "id": "753f76be",
   "metadata": {},
   "outputs": [
    {
     "data": {
      "text/html": [
       "<div>\n",
       "<style scoped>\n",
       "    .dataframe tbody tr th:only-of-type {\n",
       "        vertical-align: middle;\n",
       "    }\n",
       "\n",
       "    .dataframe tbody tr th {\n",
       "        vertical-align: top;\n",
       "    }\n",
       "\n",
       "    .dataframe thead th {\n",
       "        text-align: right;\n",
       "    }\n",
       "</style>\n",
       "<table border=\"1\" class=\"dataframe\">\n",
       "  <thead>\n",
       "    <tr style=\"text-align: right;\">\n",
       "      <th></th>\n",
       "      <th>CustomerID</th>\n",
       "      <th>Age</th>\n",
       "      <th>Annual Income (k$)</th>\n",
       "      <th>Spending Score (1-100)</th>\n",
       "    </tr>\n",
       "  </thead>\n",
       "  <tbody>\n",
       "    <tr>\n",
       "      <th>count</th>\n",
       "      <td>200.000000</td>\n",
       "      <td>200.000000</td>\n",
       "      <td>200.000000</td>\n",
       "      <td>200.000000</td>\n",
       "    </tr>\n",
       "    <tr>\n",
       "      <th>mean</th>\n",
       "      <td>100.500000</td>\n",
       "      <td>38.850000</td>\n",
       "      <td>60.560000</td>\n",
       "      <td>50.200000</td>\n",
       "    </tr>\n",
       "    <tr>\n",
       "      <th>std</th>\n",
       "      <td>57.879185</td>\n",
       "      <td>13.969007</td>\n",
       "      <td>26.264721</td>\n",
       "      <td>25.823522</td>\n",
       "    </tr>\n",
       "    <tr>\n",
       "      <th>min</th>\n",
       "      <td>1.000000</td>\n",
       "      <td>18.000000</td>\n",
       "      <td>15.000000</td>\n",
       "      <td>1.000000</td>\n",
       "    </tr>\n",
       "    <tr>\n",
       "      <th>25%</th>\n",
       "      <td>50.750000</td>\n",
       "      <td>28.750000</td>\n",
       "      <td>41.500000</td>\n",
       "      <td>34.750000</td>\n",
       "    </tr>\n",
       "    <tr>\n",
       "      <th>50%</th>\n",
       "      <td>100.500000</td>\n",
       "      <td>36.000000</td>\n",
       "      <td>61.500000</td>\n",
       "      <td>50.000000</td>\n",
       "    </tr>\n",
       "    <tr>\n",
       "      <th>75%</th>\n",
       "      <td>150.250000</td>\n",
       "      <td>49.000000</td>\n",
       "      <td>78.000000</td>\n",
       "      <td>73.000000</td>\n",
       "    </tr>\n",
       "    <tr>\n",
       "      <th>max</th>\n",
       "      <td>200.000000</td>\n",
       "      <td>70.000000</td>\n",
       "      <td>137.000000</td>\n",
       "      <td>99.000000</td>\n",
       "    </tr>\n",
       "  </tbody>\n",
       "</table>\n",
       "</div>"
      ],
      "text/plain": [
       "       CustomerID         Age  Annual Income (k$)  Spending Score (1-100)\n",
       "count  200.000000  200.000000          200.000000              200.000000\n",
       "mean   100.500000   38.850000           60.560000               50.200000\n",
       "std     57.879185   13.969007           26.264721               25.823522\n",
       "min      1.000000   18.000000           15.000000                1.000000\n",
       "25%     50.750000   28.750000           41.500000               34.750000\n",
       "50%    100.500000   36.000000           61.500000               50.000000\n",
       "75%    150.250000   49.000000           78.000000               73.000000\n",
       "max    200.000000   70.000000          137.000000               99.000000"
      ]
     },
     "execution_count": 63,
     "metadata": {},
     "output_type": "execute_result"
    }
   ],
   "source": [
    "data_MallCus.describe()"
   ]
  },
  {
   "cell_type": "code",
   "execution_count": 65,
   "id": "4dd5c80d",
   "metadata": {},
   "outputs": [
    {
     "data": {
      "image/png": "[encoded data removed]",
      "text/plain": [
       "<Figure size 576x432 with 1 Axes>"
      ]
     },
     "metadata": {
      "needs_background": "light"
     },
     "output_type": "display_data"
    }
   ],
   "source": [
    "# Membuat bar chart untuk distribusi Annual Income\n",
    "plt.figure(figsize=(8, 6))\n",
    "plt.bar(['Annual Income Tertinggi', 'Annual Income Terendah'], [income_max, income_min], color=['skyblue', 'pink'])\n",
    "plt.title('Annual Income Tertinggi dan Terendah')\n",
    "plt.ylabel('Annual Income (k$)')\n",
    "plt.show()"
   ]
  },
  {
   "cell_type": "code",
   "execution_count": 128,
   "id": "a6df1f0f",
   "metadata": {},
   "outputs": [
    {
     "data": {
      "image/png": "[encoded data removed]",
      "text/plain": [
       "<Figure size 864x576 with 1 Axes>"
      ]
     },
     "metadata": {
      "needs_background": "light"
     },
     "output_type": "display_data"
    }
   ],
   "source": [
    "# Visualisasi distribusi Annual Income berdasarkan genre\n",
    "plt.figure(figsize=(12, 8))\n",
    "sns.boxplot(x='Genre', y='Annual Income (k$)', data=data, palette='Set2')\n",
    "plt.title('Distribusi Annual Income Berdasarkan Genre')\n",
    "plt.xlabel('Genre')\n",
    "plt.ylabel('Annual Income (k$)')\n",
    "plt.show()"
   ]
  },
  {
   "cell_type": "code",
   "execution_count": 129,
   "id": "8ad6dafb",
   "metadata": {},
   "outputs": [
    {
     "data": {
      "image/png": "[encoded data removed]",
      "text/plain": [
       "<Figure size 1152x576 with 1 Axes>"
      ]
     },
     "metadata": {
      "needs_background": "light"
     },
     "output_type": "display_data"
    }
   ],
   "source": [
    "# Visualisasi distribusi Annual Income berdasarkan usia\n",
    "plt.figure(figsize=(16, 8))\n",
    "sns.scatterplot(x='Age', y='Annual Income (k$)', data=data, hue='Age', palette='viridis', size='Annual Income (k$)', sizes=(20, 200))\n",
    "plt.title('Distribusi Annual Income Berdasarkan Usia')\n",
    "plt.xlabel('Usia')\n",
    "plt.ylabel('Annual Income (k$)')\n",
    "plt.legend(title='Usia', bbox_to_anchor=(1.05, 1), loc='upper left')\n",
    "plt.show()"
   ]
  },
  {
   "cell_type": "code",
   "execution_count": 66,
   "id": "a68335be",
   "metadata": {},
   "outputs": [
    {
     "data": {
      "text/plain": [
       "CustomerID                0\n",
       "Genre                     0\n",
       "Age                       0\n",
       "Annual Income (k$)        0\n",
       "Spending Score (1-100)    0\n",
       "dtype: int64"
      ]
     },
     "execution_count": 66,
     "metadata": {},
     "output_type": "execute_result"
    }
   ],
   "source": [
    "data_MallCus.isnull().sum()"
   ]
  },
  {
   "cell_type": "code",
   "execution_count": 67,
   "id": "6d6119a3",
   "metadata": {},
   "outputs": [
    {
     "data": {
      "text/plain": [
       "64"
      ]
     },
     "execution_count": 67,
     "metadata": {},
     "output_type": "execute_result"
    }
   ],
   "source": [
    "data_MallCus['Annual Income (k$)'].nunique()"
   ]
  },
  {
   "cell_type": "markdown",
   "id": "13b83082",
   "metadata": {},
   "source": [
    "Mengecek Outlier pada data aslinya"
   ]
  },
  {
   "cell_type": "code",
   "execution_count": 68,
   "id": "bdea480c",
   "metadata": {
    "scrolled": false
   },
   "outputs": [
    {
     "data": {
      "image/png": "[encoded data removed]",
      "text/plain": [
       "<Figure size 720x432 with 1 Axes>"
      ]
     },
     "metadata": {
      "needs_background": "light"
     },
     "output_type": "display_data"
    }
   ],
   "source": [
    "plt.figure(figsize=(10,6))\n",
    "data_MallCus.boxplot()\n",
    "plt.show()"
   ]
  },
  {
   "cell_type": "markdown",
   "id": "907f16f3",
   "metadata": {},
   "source": [
    "# Memisahkan Gender agar bisa di Standarisasi"
   ]
  },
  {
   "cell_type": "code",
   "execution_count": 69,
   "id": "67a11cbf",
   "metadata": {},
   "outputs": [
    {
     "name": "stdout",
     "output_type": "stream",
     "text": [
      "Male Data:\n",
      "     CustomerID Genre  Age  Annual Income (k$)  Spending Score (1-100)\n",
      "0             1  Male   19                  15                      39\n",
      "1             2  Male   21                  15                      81\n",
      "8             9  Male   64                  19                       3\n",
      "10           11  Male   67                  19                      14\n",
      "14           15  Male   37                  20                      13\n",
      "..          ...   ...  ...                 ...                     ...\n",
      "187         188  Male   28                 101                      68\n",
      "192         193  Male   33                 113                       8\n",
      "197         198  Male   32                 126                      74\n",
      "198         199  Male   32                 137                      18\n",
      "199         200  Male   30                 137                      83\n",
      "\n",
      "[88 rows x 5 columns]\n"
     ]
    }
   ],
   "source": [
    "# Memisahkan data menjadi dua kelompok: male dan female\n",
    "male_data = data_MallCus[data_MallCus['Genre'] == 'Male']\n",
    "print(\"Male Data:\")\n",
    "print(male_data)"
   ]
  },
  {
   "cell_type": "code",
   "execution_count": 70,
   "id": "043d9ecc",
   "metadata": {},
   "outputs": [
    {
     "name": "stdout",
     "output_type": "stream",
     "text": [
      "\n",
      "Female Data:\n",
      "     CustomerID   Genre  Age  Annual Income (k$)  Spending Score (1-100)\n",
      "2             3  Female   20                  16                       6\n",
      "3             4  Female   23                  16                      77\n",
      "4             5  Female   31                  17                      40\n",
      "5             6  Female   22                  17                      76\n",
      "6             7  Female   35                  18                       6\n",
      "..          ...     ...  ...                 ...                     ...\n",
      "191         192  Female   32                 103                      69\n",
      "193         194  Female   38                 113                      91\n",
      "194         195  Female   47                 120                      16\n",
      "195         196  Female   35                 120                      79\n",
      "196         197  Female   45                 126                      28\n",
      "\n",
      "[112 rows x 5 columns]\n"
     ]
    }
   ],
   "source": [
    "female_data = data_MallCus[data_MallCus['Genre'] == 'Female']\n",
    "print(\"\\nFemale Data:\")\n",
    "print(female_data)"
   ]
  },
  {
   "cell_type": "code",
   "execution_count": 72,
   "id": "4d7876fe",
   "metadata": {},
   "outputs": [
    {
     "data": {
      "image/png": "[encoded data removed]",
      "text/plain": [
       "<Figure size 576x576 with 1 Axes>"
      ]
     },
     "metadata": {},
     "output_type": "display_data"
    }
   ],
   "source": [
    "# Memisahkan data menjadi dua kelompok: male dan female\n",
    "male_data = data_MallCus[data_MallCus['Genre'] == 'Male']\n",
    "female_data = data_MallCus[data_MallCus['Genre'] == 'Female']\n",
    "\n",
    "# Menghitung frekuensi male dan female\n",
    "male_count = len(male_data)\n",
    "female_count = len(female_data)\n",
    "\n",
    "# Membuat pie chart\n",
    "labels = ['Male', 'Female']\n",
    "sizes = [male_count, female_count]\n",
    "colors = ['lightblue', 'lightcoral']\n",
    "\n",
    "plt.figure(figsize=(8, 8))\n",
    "plt.pie(sizes, labels=labels, colors=colors, autopct='%1.1f%%', startangle=90)\n",
    "plt.title('Distribution of Gender in Mall Customers')\n",
    "\n",
    "plt.show()"
   ]
  },
  {
   "cell_type": "code",
   "execution_count": 108,
   "id": "fb37c955",
   "metadata": {},
   "outputs": [
    {
     "data": {
      "image/png": "[encoded data removed]",
      "text/plain": [
       "<Figure size 864x576 with 1 Axes>"
      ]
     },
     "metadata": {
      "needs_background": "light"
     },
     "output_type": "display_data"
    }
   ],
   "source": [
    "# Membuat box plot untuk usia (age) dan jenis kelamin (genre)\n",
    "plt.figure(figsize=(12, 8))\n",
    "sns.boxplot(x='Annual Income (k$)', y='Age', hue='Genre', data=data, palette='Pastel1')\n",
    "\n",
    "# Menambahkan judul dan label sumbu\n",
    "plt.title('Box Plot of Age by Gender Over the Years')\n",
    "plt.xlabel('Annual Income (k$)')\n",
    "plt.ylabel('Genre')\n",
    "plt.show()"
   ]
  },
  {
   "cell_type": "code",
   "execution_count": 109,
   "id": "e7874d89",
   "metadata": {},
   "outputs": [
    {
     "data": {
      "image/png": "[encoded data removed]",
      "text/plain": [
       "<Figure size 864x576 with 1 Axes>"
      ]
     },
     "metadata": {
      "needs_background": "light"
     },
     "output_type": "display_data"
    }
   ],
   "source": [
    "# Membuat scatter plot untuk Age dan Annual Income berdasarkan jenis kelamin\n",
    "plt.figure(figsize=(12, 8))\n",
    "sns.scatterplot(x='Age', y='Annual Income (k$)', hue='Genre', data=data, palette='pastel')\n",
    "\n",
    "# Menambahkan judul dan label sumbu\n",
    "plt.title('Scatter Plot of Age and Annual Income by Gender')\n",
    "plt.xlabel('Age')\n",
    "plt.ylabel('Annual Income (k$)')\n",
    "\n",
    "plt.show()"
   ]
  },
  {
   "cell_type": "code",
   "execution_count": 110,
   "id": "4a4b667e",
   "metadata": {
    "scrolled": false
   },
   "outputs": [
    {
     "data": {
      "image/png": "[encoded data removed]",
      "text/plain": [
       "<Figure size 864x576 with 1 Axes>"
      ]
     },
     "metadata": {
      "needs_background": "light"
     },
     "output_type": "display_data"
    }
   ],
   "source": [
    "# Membuat box plot untuk umur dan jenis kelamin\n",
    "plt.figure(figsize=(12, 8))\n",
    "sns.boxplot(x='Genre', y='Age', data=data, palette='pastel')\n",
    "\n",
    "# Menambahkan judul dan label sumbu\n",
    "plt.title('Box Plot of Age by Gender')\n",
    "plt.xlabel('Gender')\n",
    "plt.ylabel('Age')\n",
    "\n",
    "# Menampilkan box plot\n",
    "plt.show()"
   ]
  },
  {
   "cell_type": "markdown",
   "id": "486fafad",
   "metadata": {},
   "source": [
    "# Perform preprocessing steps on the dataset to create dummy variables"
   ]
  },
  {
   "cell_type": "code",
   "execution_count": 76,
   "id": "c14d6fa3",
   "metadata": {},
   "outputs": [],
   "source": [
    "y = data_MallCus['Annual Income (k$)']"
   ]
  },
  {
   "cell_type": "code",
   "execution_count": 90,
   "id": "9320c4c2",
   "metadata": {},
   "outputs": [
    {
     "name": "stdout",
     "output_type": "stream",
     "text": [
      "   CustomerID     Genre       Age  Annual Income (k$)  Spending Score (1-100)\n",
      "0   -1.723412  1.128152 -1.424569           -1.738999               -0.434801\n",
      "1   -1.706091  1.128152 -1.281035           -1.738999                1.195704\n",
      "2   -1.688771 -0.886405 -1.352802           -1.700830               -1.715913\n",
      "3   -1.671450 -0.886405 -1.137502           -1.700830                1.040418\n",
      "4   -1.654129 -0.886405 -0.563369           -1.662660               -0.395980\n"
     ]
    }
   ],
   "source": [
    "# Lakukan encoding dan imputasi\n",
    "label_encoder = LabelEncoder()\n",
    "data_encoded = data.apply(lambda col: label_encoder.fit_transform(col.astype(str)) if col.dtype == 'O' else col)\n",
    "imputer = SimpleImputer(strategy='mean')\n",
    "data_imputed = imputer.fit_transform(data_encoded)\n",
    "\n",
    "# Standarisasi menggunakan StandardScaler\n",
    "std = StandardScaler()\n",
    "X_std = std.fit_transform(data_imputed)\n",
    "\n",
    "# Membuat DataFrame hasil standarisasi\n",
    "X_std_df = pd.DataFrame(X_std, columns=data.columns)\n",
    "\n",
    "# Melihat hasil standarisasi\n",
    "print(X_std_df.head())"
   ]
  },
  {
   "cell_type": "markdown",
   "id": "26df02de",
   "metadata": {},
   "source": [
    "Mengubah Gender menjadi Numerik"
   ]
  },
  {
   "cell_type": "code",
   "execution_count": 106,
   "id": "ba5f5832",
   "metadata": {},
   "outputs": [],
   "source": [
    "# Assuming 'X' is a pandas DataFrame\n",
    "std = StandardScaler()\n",
    "X_std = std.fit_transform(data_imputed)"
   ]
  },
  {
   "cell_type": "code",
   "execution_count": 107,
   "id": "ecc71051",
   "metadata": {},
   "outputs": [
    {
     "data": {
      "text/html": [
       "<div>\n",
       "<style scoped>\n",
       "    .dataframe tbody tr th:only-of-type {\n",
       "        vertical-align: middle;\n",
       "    }\n",
       "\n",
       "    .dataframe tbody tr th {\n",
       "        vertical-align: top;\n",
       "    }\n",
       "\n",
       "    .dataframe thead th {\n",
       "        text-align: right;\n",
       "    }\n",
       "</style>\n",
       "<table border=\"1\" class=\"dataframe\">\n",
       "  <thead>\n",
       "    <tr style=\"text-align: right;\">\n",
       "      <th></th>\n",
       "      <th>CustomerID</th>\n",
       "      <th>Age</th>\n",
       "      <th>Annual Income (k$)</th>\n",
       "      <th>Spending Score (1-100)</th>\n",
       "      <th>Genre_Female</th>\n",
       "      <th>Genre_Male</th>\n",
       "    </tr>\n",
       "  </thead>\n",
       "  <tbody>\n",
       "    <tr>\n",
       "      <th>0</th>\n",
       "      <td>1</td>\n",
       "      <td>19</td>\n",
       "      <td>15</td>\n",
       "      <td>39</td>\n",
       "      <td>0</td>\n",
       "      <td>1</td>\n",
       "    </tr>\n",
       "    <tr>\n",
       "      <th>1</th>\n",
       "      <td>2</td>\n",
       "      <td>21</td>\n",
       "      <td>15</td>\n",
       "      <td>81</td>\n",
       "      <td>0</td>\n",
       "      <td>1</td>\n",
       "    </tr>\n",
       "    <tr>\n",
       "      <th>2</th>\n",
       "      <td>3</td>\n",
       "      <td>20</td>\n",
       "      <td>16</td>\n",
       "      <td>6</td>\n",
       "      <td>1</td>\n",
       "      <td>0</td>\n",
       "    </tr>\n",
       "    <tr>\n",
       "      <th>3</th>\n",
       "      <td>4</td>\n",
       "      <td>23</td>\n",
       "      <td>16</td>\n",
       "      <td>77</td>\n",
       "      <td>1</td>\n",
       "      <td>0</td>\n",
       "    </tr>\n",
       "    <tr>\n",
       "      <th>4</th>\n",
       "      <td>5</td>\n",
       "      <td>31</td>\n",
       "      <td>17</td>\n",
       "      <td>40</td>\n",
       "      <td>1</td>\n",
       "      <td>0</td>\n",
       "    </tr>\n",
       "  </tbody>\n",
       "</table>\n",
       "</div>"
      ],
      "text/plain": [
       "   CustomerID  Age  Annual Income (k$)  Spending Score (1-100)  Genre_Female  \\\n",
       "0           1   19                  15                      39             0   \n",
       "1           2   21                  15                      81             0   \n",
       "2           3   20                  16                       6             1   \n",
       "3           4   23                  16                      77             1   \n",
       "4           5   31                  17                      40             1   \n",
       "\n",
       "   Genre_Male  \n",
       "0           1  \n",
       "1           1  \n",
       "2           0  \n",
       "3           0  \n",
       "4           0  "
      ]
     },
     "execution_count": 107,
     "metadata": {},
     "output_type": "execute_result"
    }
   ],
   "source": [
    "df = pd.get_dummies(data) # kolom kategorik dibuat numerik dengan cara di dummy\n",
    "df.head()"
   ]
  },
  {
   "cell_type": "code",
   "execution_count": 100,
   "id": "8bc45ec8",
   "metadata": {
    "scrolled": false
   },
   "outputs": [
    {
     "data": {
      "text/plain": [
       "array([[-1.7234121 ,  1.12815215, -1.42456879, -1.73899919, -0.43480148],\n",
       "       [-1.70609137,  1.12815215, -1.28103541, -1.73899919,  1.19570407],\n",
       "       [-1.68877065, -0.88640526, -1.3528021 , -1.70082976, -1.71591298],\n",
       "       [-1.67144992, -0.88640526, -1.13750203, -1.70082976,  1.04041783],\n",
       "       [-1.6541292 , -0.88640526, -0.56336851, -1.66266033, -0.39597992],\n",
       "       [-1.63680847, -0.88640526, -1.20926872, -1.66266033,  1.00159627],\n",
       "       [-1.61948775, -0.88640526, -0.27630176, -1.62449091, -1.71591298],\n",
       "       [-1.60216702, -0.88640526, -1.13750203, -1.62449091,  1.70038436],\n",
       "       [-1.5848463 ,  1.12815215,  1.80493225, -1.58632148, -1.83237767],\n",
       "       [-1.56752558, -0.88640526, -0.6351352 , -1.58632148,  0.84631002],\n",
       "       [-1.55020485,  1.12815215,  2.02023231, -1.58632148, -1.4053405 ],\n",
       "       [-1.53288413, -0.88640526, -0.27630176, -1.58632148,  1.89449216],\n",
       "       [-1.5155634 , -0.88640526,  1.37433211, -1.54815205, -1.36651894],\n",
       "       [-1.49824268, -0.88640526, -1.06573534, -1.54815205,  1.04041783],\n",
       "       [-1.48092195,  1.12815215, -0.13276838, -1.54815205, -1.44416206],\n",
       "       [-1.46360123,  1.12815215, -1.20926872, -1.54815205,  1.11806095],\n",
       "       [-1.4462805 , -0.88640526, -0.27630176, -1.50998262, -0.59008772],\n",
       "       [-1.42895978,  1.12815215, -1.3528021 , -1.50998262,  0.61338066],\n",
       "       [-1.41163905,  1.12815215,  0.94373197, -1.43364376, -0.82301709],\n",
       "       [-1.39431833, -0.88640526, -0.27630176, -1.43364376,  1.8556706 ],\n",
       "       [-1.3769976 ,  1.12815215, -0.27630176, -1.39547433, -0.59008772],\n",
       "       [-1.35967688,  1.12815215, -0.99396865, -1.39547433,  0.88513158],\n",
       "       [-1.34235616, -0.88640526,  0.51313183, -1.3573049 , -1.75473454],\n",
       "       [-1.32503543,  1.12815215, -0.56336851, -1.3573049 ,  0.88513158],\n",
       "       [-1.30771471, -0.88640526,  1.08726535, -1.24279661, -1.4053405 ],\n",
       "       [-1.29039398,  1.12815215, -0.70690189, -1.24279661,  1.23452563],\n",
       "       [-1.27307326, -0.88640526,  0.44136514, -1.24279661, -0.7065524 ],\n",
       "       [-1.25575253,  1.12815215, -0.27630176, -1.24279661,  0.41927286],\n",
       "       [-1.23843181, -0.88640526,  0.08253169, -1.20462718, -0.74537397],\n",
       "       [-1.22111108, -0.88640526, -1.13750203, -1.20462718,  1.42863343],\n",
       "       [-1.20379036,  1.12815215,  1.51786549, -1.16645776, -1.7935561 ],\n",
       "       [-1.18646963, -0.88640526, -1.28103541, -1.16645776,  0.88513158],\n",
       "       [-1.16914891,  1.12815215,  1.01549866, -1.05194947, -1.7935561 ],\n",
       "       [-1.15182818,  1.12815215, -1.49633548, -1.05194947,  1.62274124],\n",
       "       [-1.13450746, -0.88640526,  0.7284319 , -1.05194947, -1.4053405 ],\n",
       "       [-1.11718674, -0.88640526, -1.28103541, -1.05194947,  1.19570407],\n",
       "       [-1.09986601, -0.88640526,  0.22606507, -1.01378004, -1.28887582],\n",
       "       [-1.08254529, -0.88640526, -0.6351352 , -1.01378004,  0.88513158],\n",
       "       [-1.06522456, -0.88640526, -0.20453507, -0.89927175, -0.93948177],\n",
       "       [-1.04790384, -0.88640526, -1.3528021 , -0.89927175,  0.96277471],\n",
       "       [-1.03058311, -0.88640526,  1.87669894, -0.86110232, -0.59008772],\n",
       "       [-1.01326239,  1.12815215, -1.06573534, -0.86110232,  1.62274124],\n",
       "       [-0.99594166,  1.12815215,  0.65666521, -0.82293289, -0.55126616],\n",
       "       [-0.97862094, -0.88640526, -0.56336851, -0.82293289,  0.41927286],\n",
       "       [-0.96130021, -0.88640526,  0.7284319 , -0.82293289, -0.86183865],\n",
       "       [-0.94397949, -0.88640526, -1.06573534, -0.82293289,  0.5745591 ],\n",
       "       [-0.92665877, -0.88640526,  0.80019859, -0.78476346,  0.18634349],\n",
       "       [-0.90933804, -0.88640526, -0.85043527, -0.78476346, -0.12422899],\n",
       "       [-0.89201732, -0.88640526, -0.70690189, -0.78476346, -0.3183368 ],\n",
       "       [-0.87469659, -0.88640526, -0.56336851, -0.78476346, -0.3183368 ],\n",
       "       [-0.85737587, -0.88640526,  0.7284319 , -0.70842461,  0.06987881],\n",
       "       [-0.84005514,  1.12815215, -0.41983513, -0.70842461,  0.38045129],\n",
       "       [-0.82273442, -0.88640526, -0.56336851, -0.67025518,  0.14752193],\n",
       "       [-0.80541369,  1.12815215,  1.4460988 , -0.67025518,  0.38045129],\n",
       "       [-0.78809297, -0.88640526,  0.80019859, -0.67025518, -0.20187212],\n",
       "       [-0.77077224,  1.12815215,  0.58489852, -0.67025518, -0.35715836],\n",
       "       [-0.75345152, -0.88640526,  0.87196528, -0.63208575, -0.00776431],\n",
       "       [-0.73613079,  1.12815215,  2.16376569, -0.63208575, -0.16305055],\n",
       "       [-0.71881007, -0.88640526, -0.85043527, -0.55574689,  0.03105725],\n",
       "       [-0.70148935,  1.12815215,  1.01549866, -0.55574689, -0.16305055],\n",
       "       [-0.68416862,  1.12815215,  2.23553238, -0.55574689,  0.22516505],\n",
       "       [-0.6668479 ,  1.12815215, -1.42456879, -0.55574689,  0.18634349],\n",
       "       [-0.64952717, -0.88640526,  2.02023231, -0.51757746,  0.06987881],\n",
       "       [-0.63220645, -0.88640526,  1.08726535, -0.51757746,  0.34162973],\n",
       "       [-0.61488572,  1.12815215,  1.73316556, -0.47940803,  0.03105725],\n",
       "       [-0.597565  ,  1.12815215, -1.49633548, -0.47940803,  0.34162973],\n",
       "       [-0.58024427, -0.88640526,  0.29783176, -0.47940803, -0.00776431],\n",
       "       [-0.56292355, -0.88640526,  2.091999  , -0.47940803, -0.08540743],\n",
       "       [-0.54560282,  1.12815215, -1.42456879, -0.47940803,  0.34162973],\n",
       "       [-0.5282821 , -0.88640526, -0.49160182, -0.47940803, -0.12422899],\n",
       "       [-0.51096138,  1.12815215,  2.23553238, -0.4412386 ,  0.18634349],\n",
       "       [-0.49364065, -0.88640526,  0.58489852, -0.4412386 , -0.3183368 ],\n",
       "       [-0.47631993, -0.88640526,  1.51786549, -0.40306917, -0.04658587],\n",
       "       [-0.4589992 , -0.88640526,  1.51786549, -0.40306917,  0.22516505],\n",
       "       [-0.44167848,  1.12815215,  1.4460988 , -0.25039146, -0.12422899],\n",
       "       [-0.42435775,  1.12815215, -0.92220196, -0.25039146,  0.14752193],\n",
       "       [-0.40703703, -0.88640526,  0.44136514, -0.25039146,  0.10870037],\n",
       "       [-0.3897163 ,  1.12815215,  0.08253169, -0.25039146, -0.08540743],\n",
       "       [-0.37239558, -0.88640526, -1.13750203, -0.25039146,  0.06987881],\n",
       "       [-0.35507485, -0.88640526,  0.7284319 , -0.25039146, -0.3183368 ],\n",
       "       [-0.33775413,  1.12815215,  1.30256542, -0.25039146,  0.03105725],\n",
       "       [-0.3204334 ,  1.12815215, -0.06100169, -0.25039146,  0.18634349],\n",
       "       [-0.30311268,  1.12815215,  2.02023231, -0.25039146, -0.35715836],\n",
       "       [-0.28579196, -0.88640526,  0.51313183, -0.25039146, -0.24069368],\n",
       "       [-0.26847123, -0.88640526, -1.28103541, -0.25039146,  0.26398661],\n",
       "       [-0.25115051,  1.12815215,  0.65666521, -0.25039146, -0.16305055],\n",
       "       [-0.23382978, -0.88640526,  1.15903204, -0.13588317,  0.30280817],\n",
       "       [-0.21650906, -0.88640526, -1.20926872, -0.13588317,  0.18634349],\n",
       "       [-0.19918833, -0.88640526, -0.34806844, -0.09771374,  0.38045129],\n",
       "       [-0.18186761, -0.88640526,  0.80019859, -0.09771374, -0.16305055],\n",
       "       [-0.16454688, -0.88640526,  2.091999  , -0.05954431,  0.18634349],\n",
       "       [-0.14722616,  1.12815215, -1.49633548, -0.05954431, -0.35715836],\n",
       "       [-0.12990543,  1.12815215,  0.65666521, -0.02137488, -0.04658587],\n",
       "       [-0.11258471, -0.88640526,  0.08253169, -0.02137488, -0.39597992],\n",
       "       [-0.09526399, -0.88640526, -0.49160182, -0.02137488, -0.3183368 ],\n",
       "       [-0.07794326,  1.12815215, -1.06573534, -0.02137488,  0.06987881],\n",
       "       [-0.06062254, -0.88640526,  0.58489852, -0.02137488, -0.12422899],\n",
       "       [-0.04330181, -0.88640526, -0.85043527, -0.02137488, -0.00776431],\n",
       "       [-0.02598109,  1.12815215,  0.65666521,  0.01679455, -0.3183368 ],\n",
       "       [-0.00866036,  1.12815215, -1.3528021 ,  0.01679455, -0.04658587],\n",
       "       [ 0.00866036, -0.88640526, -1.13750203,  0.05496398, -0.35715836],\n",
       "       [ 0.02598109, -0.88640526,  0.7284319 ,  0.05496398, -0.08540743],\n",
       "       [ 0.04330181,  1.12815215,  2.02023231,  0.05496398,  0.34162973],\n",
       "       [ 0.06062254,  1.12815215, -0.92220196,  0.05496398,  0.18634349],\n",
       "       [ 0.07794326,  1.12815215,  0.7284319 ,  0.05496398,  0.22516505],\n",
       "       [ 0.09526399, -0.88640526, -1.28103541,  0.05496398, -0.3183368 ],\n",
       "       [ 0.11258471, -0.88640526,  1.94846562,  0.09313341, -0.00776431],\n",
       "       [ 0.12990543,  1.12815215,  1.08726535,  0.09313341, -0.16305055],\n",
       "       [ 0.14722616,  1.12815215,  2.091999  ,  0.09313341, -0.27951524],\n",
       "       [ 0.16454688,  1.12815215,  1.94846562,  0.09313341, -0.08540743],\n",
       "       [ 0.18186761,  1.12815215,  1.87669894,  0.09313341,  0.06987881],\n",
       "       [ 0.19918833, -0.88640526, -1.42456879,  0.09313341,  0.14752193],\n",
       "       [ 0.21650906, -0.88640526, -0.06100169,  0.13130284, -0.3183368 ],\n",
       "       [ 0.23382978,  1.12815215, -1.42456879,  0.13130284, -0.16305055],\n",
       "       [ 0.25115051, -0.88640526, -1.49633548,  0.16947227, -0.08540743],\n",
       "       [ 0.26847123, -0.88640526, -1.42456879,  0.16947227, -0.00776431],\n",
       "       [ 0.28579196, -0.88640526,  1.73316556,  0.16947227, -0.27951524],\n",
       "       [ 0.30311268, -0.88640526,  0.7284319 ,  0.16947227,  0.34162973],\n",
       "       [ 0.3204334 , -0.88640526,  0.87196528,  0.24581112, -0.27951524],\n",
       "       [ 0.33775413, -0.88640526,  0.80019859,  0.24581112,  0.26398661],\n",
       "       [ 0.35507485,  1.12815215, -0.85043527,  0.24581112,  0.22516505],\n",
       "       [ 0.37239558, -0.88640526, -0.06100169,  0.24581112, -0.39597992],\n",
       "       [ 0.3897163 , -0.88640526,  0.08253169,  0.32214998,  0.30280817],\n",
       "       [ 0.40703703,  1.12815215,  0.010765  ,  0.32214998,  1.58391968],\n",
       "       [ 0.42435775, -0.88640526, -1.13750203,  0.36031941, -0.82301709],\n",
       "       [ 0.44167848, -0.88640526, -0.56336851,  0.36031941,  1.04041783],\n",
       "       [ 0.4589992 ,  1.12815215,  0.29783176,  0.39848884, -0.59008772],\n",
       "       [ 0.47631993,  1.12815215,  0.08253169,  0.39848884,  1.73920592],\n",
       "       [ 0.49364065,  1.12815215,  1.4460988 ,  0.39848884, -1.52180518],\n",
       "       [ 0.51096138,  1.12815215, -0.06100169,  0.39848884,  0.96277471],\n",
       "       [ 0.5282821 ,  1.12815215,  0.58489852,  0.39848884, -1.5994483 ],\n",
       "       [ 0.54560282,  1.12815215,  0.010765  ,  0.39848884,  0.96277471],\n",
       "       [ 0.56292355, -0.88640526, -0.99396865,  0.43665827, -0.62890928],\n",
       "       [ 0.58024427, -0.88640526, -0.56336851,  0.43665827,  0.80748846],\n",
       "       [ 0.597565  ,  1.12815215, -1.3528021 ,  0.4748277 , -1.75473454],\n",
       "       [ 0.61488572, -0.88640526, -0.70690189,  0.4748277 ,  1.46745499],\n",
       "       [ 0.63220645, -0.88640526,  0.36959845,  0.4748277 , -1.67709142],\n",
       "       [ 0.64952717,  1.12815215, -0.49160182,  0.4748277 ,  0.88513158],\n",
       "       [ 0.6668479 ,  1.12815215, -1.42456879,  0.51299713, -1.56062674],\n",
       "       [ 0.68416862, -0.88640526, -0.27630176,  0.51299713,  0.84631002],\n",
       "       [ 0.70148935, -0.88640526,  1.30256542,  0.55116656, -1.75473454],\n",
       "       [ 0.71881007,  1.12815215, -0.49160182,  0.55116656,  1.6615628 ],\n",
       "       [ 0.73613079, -0.88640526, -0.77866858,  0.58933599, -0.39597992],\n",
       "       [ 0.75345152, -0.88640526, -0.49160182,  0.58933599,  1.42863343],\n",
       "       [ 0.77077224,  1.12815215, -0.99396865,  0.62750542, -1.48298362],\n",
       "       [ 0.78809297,  1.12815215, -0.77866858,  0.62750542,  1.81684904],\n",
       "       [ 0.80541369,  1.12815215,  0.65666521,  0.62750542, -0.55126616],\n",
       "       [ 0.82273442, -0.88640526, -0.49160182,  0.62750542,  0.92395314],\n",
       "       [ 0.84005514, -0.88640526, -0.34806844,  0.66567484, -1.09476801],\n",
       "       [ 0.85737587,  1.12815215, -0.34806844,  0.66567484,  1.54509812],\n",
       "       [ 0.87469659,  1.12815215,  0.29783176,  0.66567484, -1.28887582],\n",
       "       [ 0.89201732,  1.12815215,  0.010765  ,  0.66567484,  1.46745499],\n",
       "       [ 0.90933804, -0.88640526,  0.36959845,  0.66567484, -1.17241113],\n",
       "       [ 0.92665877, -0.88640526, -0.06100169,  0.66567484,  1.00159627],\n",
       "       [ 0.94397949, -0.88640526,  0.58489852,  0.66567484, -1.32769738],\n",
       "       [ 0.96130021, -0.88640526, -0.85043527,  0.66567484,  1.50627656],\n",
       "       [ 0.97862094,  1.12815215, -0.13276838,  0.66567484, -1.91002079],\n",
       "       [ 0.99594166, -0.88640526, -0.6351352 ,  0.66567484,  1.07923939],\n",
       "       [ 1.01326239,  1.12815215, -0.34806844,  0.66567484, -1.91002079],\n",
       "       [ 1.03058311, -0.88640526, -0.6351352 ,  0.66567484,  0.88513158],\n",
       "       [ 1.04790384, -0.88640526,  1.23079873,  0.70384427, -0.59008772],\n",
       "       [ 1.06522456, -0.88640526, -0.70690189,  0.70384427,  1.27334719],\n",
       "       [ 1.08254529,  1.12815215, -1.42456879,  0.78018313, -1.75473454],\n",
       "       [ 1.09986601, -0.88640526, -0.56336851,  0.78018313,  1.6615628 ],\n",
       "       [ 1.11718674,  1.12815215,  0.80019859,  0.93286085, -0.93948177],\n",
       "       [ 1.13450746, -0.88640526, -0.20453507,  0.93286085,  0.96277471],\n",
       "       [ 1.15182818,  1.12815215,  0.22606507,  0.97103028, -1.17241113],\n",
       "       [ 1.16914891, -0.88640526, -0.41983513,  0.97103028,  1.73920592],\n",
       "       [ 1.18646963, -0.88640526, -0.20453507,  1.00919971, -0.90066021],\n",
       "       [ 1.20379036,  1.12815215, -0.49160182,  1.00919971,  0.49691598],\n",
       "       [ 1.22111108,  1.12815215,  0.08253169,  1.00919971, -1.44416206],\n",
       "       [ 1.23843181,  1.12815215, -0.77866858,  1.00919971,  0.96277471],\n",
       "       [ 1.25575253,  1.12815215, -0.20453507,  1.00919971, -1.56062674],\n",
       "       [ 1.27307326,  1.12815215, -0.20453507,  1.00919971,  1.62274124],\n",
       "       [ 1.29039398, -0.88640526,  0.94373197,  1.04736914, -1.44416206],\n",
       "       [ 1.30771471, -0.88640526, -0.6351352 ,  1.04736914,  1.38981187],\n",
       "       [ 1.32503543,  1.12815215,  1.37433211,  1.04736914, -1.36651894],\n",
       "       [ 1.34235616,  1.12815215, -0.85043527,  1.04736914,  0.72984534],\n",
       "       [ 1.35967688,  1.12815215,  1.4460988 ,  1.23821628, -1.4053405 ],\n",
       "       [ 1.3769976 ,  1.12815215, -0.27630176,  1.23821628,  1.54509812],\n",
       "       [ 1.39431833, -0.88640526, -0.13276838,  1.390894  , -0.7065524 ],\n",
       "       [ 1.41163905, -0.88640526, -0.49160182,  1.390894  ,  1.38981187],\n",
       "       [ 1.42895978,  1.12815215,  0.51313183,  1.42906343, -1.36651894],\n",
       "       [ 1.4462805 , -0.88640526, -0.70690189,  1.42906343,  1.46745499],\n",
       "       [ 1.46360123, -0.88640526,  0.15429838,  1.46723286, -0.43480148],\n",
       "       [ 1.48092195,  1.12815215, -0.6351352 ,  1.46723286,  1.81684904],\n",
       "       [ 1.49824268, -0.88640526,  1.08726535,  1.54357172, -1.01712489],\n",
       "       [ 1.5155634 ,  1.12815215, -0.77866858,  1.54357172,  0.69102378],\n",
       "       [ 1.53288413, -0.88640526,  0.15429838,  1.61991057, -1.28887582],\n",
       "       [ 1.55020485, -0.88640526, -0.20453507,  1.61991057,  1.35099031],\n",
       "       [ 1.56752558, -0.88640526, -0.34806844,  1.61991057, -1.05594645],\n",
       "       [ 1.5848463 , -0.88640526, -0.49160182,  1.61991057,  0.72984534],\n",
       "       [ 1.60216702,  1.12815215, -0.41983513,  2.00160487, -1.63826986],\n",
       "       [ 1.61948775, -0.88640526, -0.06100169,  2.00160487,  1.58391968],\n",
       "       [ 1.63680847, -0.88640526,  0.58489852,  2.26879087, -1.32769738],\n",
       "       [ 1.6541292 , -0.88640526, -0.27630176,  2.26879087,  1.11806095],\n",
       "       [ 1.67144992, -0.88640526,  0.44136514,  2.49780745, -0.86183865],\n",
       "       [ 1.68877065,  1.12815215, -0.49160182,  2.49780745,  0.92395314],\n",
       "       [ 1.70609137,  1.12815215, -0.49160182,  2.91767117, -1.25005425],\n",
       "       [ 1.7234121 ,  1.12815215, -0.6351352 ,  2.91767117,  1.27334719]])"
      ]
     },
     "execution_count": 100,
     "metadata": {},
     "output_type": "execute_result"
    }
   ],
   "source": [
    "std = StandardScaler()\n",
    "X_std = std.fit_transform(data_imputed)\n",
    "X_std"
   ]
  },
  {
   "cell_type": "code",
   "execution_count": 102,
   "id": "d0c875c9",
   "metadata": {},
   "outputs": [],
   "source": [
    "cols = data.columns"
   ]
  },
  {
   "cell_type": "code",
   "execution_count": 103,
   "id": "6ddd4f85",
   "metadata": {},
   "outputs": [
    {
     "data": {
      "text/html": [
       "<div>\n",
       "<style scoped>\n",
       "    .dataframe tbody tr th:only-of-type {\n",
       "        vertical-align: middle;\n",
       "    }\n",
       "\n",
       "    .dataframe tbody tr th {\n",
       "        vertical-align: top;\n",
       "    }\n",
       "\n",
       "    .dataframe thead tr th {\n",
       "        text-align: left;\n",
       "    }\n",
       "</style>\n",
       "<table border=\"1\" class=\"dataframe\">\n",
       "  <thead>\n",
       "    <tr>\n",
       "      <th></th>\n",
       "      <th>CustomerID</th>\n",
       "      <th>Genre</th>\n",
       "      <th>Age</th>\n",
       "      <th>Annual Income (k$)</th>\n",
       "      <th>Spending Score (1-100)</th>\n",
       "    </tr>\n",
       "  </thead>\n",
       "  <tbody>\n",
       "    <tr>\n",
       "      <th>0</th>\n",
       "      <td>-1.723412</td>\n",
       "      <td>1.128152</td>\n",
       "      <td>-1.424569</td>\n",
       "      <td>-1.738999</td>\n",
       "      <td>-0.434801</td>\n",
       "    </tr>\n",
       "    <tr>\n",
       "      <th>1</th>\n",
       "      <td>-1.706091</td>\n",
       "      <td>1.128152</td>\n",
       "      <td>-1.281035</td>\n",
       "      <td>-1.738999</td>\n",
       "      <td>1.195704</td>\n",
       "    </tr>\n",
       "    <tr>\n",
       "      <th>2</th>\n",
       "      <td>-1.688771</td>\n",
       "      <td>-0.886405</td>\n",
       "      <td>-1.352802</td>\n",
       "      <td>-1.700830</td>\n",
       "      <td>-1.715913</td>\n",
       "    </tr>\n",
       "    <tr>\n",
       "      <th>3</th>\n",
       "      <td>-1.671450</td>\n",
       "      <td>-0.886405</td>\n",
       "      <td>-1.137502</td>\n",
       "      <td>-1.700830</td>\n",
       "      <td>1.040418</td>\n",
       "    </tr>\n",
       "    <tr>\n",
       "      <th>4</th>\n",
       "      <td>-1.654129</td>\n",
       "      <td>-0.886405</td>\n",
       "      <td>-0.563369</td>\n",
       "      <td>-1.662660</td>\n",
       "      <td>-0.395980</td>\n",
       "    </tr>\n",
       "  </tbody>\n",
       "</table>\n",
       "</div>"
      ],
      "text/plain": [
       "  CustomerID     Genre       Age Annual Income (k$) Spending Score (1-100)\n",
       "0  -1.723412  1.128152 -1.424569          -1.738999              -0.434801\n",
       "1  -1.706091  1.128152 -1.281035          -1.738999               1.195704\n",
       "2  -1.688771 -0.886405 -1.352802          -1.700830              -1.715913\n",
       "3  -1.671450 -0.886405 -1.137502          -1.700830               1.040418\n",
       "4  -1.654129 -0.886405 -0.563369          -1.662660              -0.395980"
      ]
     },
     "execution_count": 103,
     "metadata": {},
     "output_type": "execute_result"
    }
   ],
   "source": [
    "X_std = pd.DataFrame(X_std, columns=[cols])\n",
    "X_std.head()"
   ]
  },
  {
   "cell_type": "code",
   "execution_count": 122,
   "id": "1768ca75",
   "metadata": {
    "scrolled": true
   },
   "outputs": [
    {
     "data": {
      "text/html": [
       "<div>\n",
       "<style scoped>\n",
       "    .dataframe tbody tr th:only-of-type {\n",
       "        vertical-align: middle;\n",
       "    }\n",
       "\n",
       "    .dataframe tbody tr th {\n",
       "        vertical-align: top;\n",
       "    }\n",
       "\n",
       "    .dataframe thead th {\n",
       "        text-align: right;\n",
       "    }\n",
       "</style>\n",
       "<table border=\"1\" class=\"dataframe\">\n",
       "  <thead>\n",
       "    <tr style=\"text-align: right;\">\n",
       "      <th></th>\n",
       "      <th>CustomerID</th>\n",
       "      <th>Age</th>\n",
       "      <th>Annual Income (k$)</th>\n",
       "      <th>Spending Score (1-100)</th>\n",
       "      <th>Genre_Female</th>\n",
       "      <th>Genre_Male</th>\n",
       "    </tr>\n",
       "  </thead>\n",
       "  <tbody>\n",
       "    <tr>\n",
       "      <th>0</th>\n",
       "      <td>-1.723412</td>\n",
       "      <td>-1.424569</td>\n",
       "      <td>-1.738999</td>\n",
       "      <td>-0.434801</td>\n",
       "      <td>-1.128152</td>\n",
       "      <td>1.128152</td>\n",
       "    </tr>\n",
       "    <tr>\n",
       "      <th>1</th>\n",
       "      <td>-1.706091</td>\n",
       "      <td>-1.281035</td>\n",
       "      <td>-1.738999</td>\n",
       "      <td>1.195704</td>\n",
       "      <td>-1.128152</td>\n",
       "      <td>1.128152</td>\n",
       "    </tr>\n",
       "    <tr>\n",
       "      <th>2</th>\n",
       "      <td>-1.688771</td>\n",
       "      <td>-1.352802</td>\n",
       "      <td>-1.700830</td>\n",
       "      <td>-1.715913</td>\n",
       "      <td>0.886405</td>\n",
       "      <td>-0.886405</td>\n",
       "    </tr>\n",
       "    <tr>\n",
       "      <th>3</th>\n",
       "      <td>-1.671450</td>\n",
       "      <td>-1.137502</td>\n",
       "      <td>-1.700830</td>\n",
       "      <td>1.040418</td>\n",
       "      <td>0.886405</td>\n",
       "      <td>-0.886405</td>\n",
       "    </tr>\n",
       "    <tr>\n",
       "      <th>4</th>\n",
       "      <td>-1.654129</td>\n",
       "      <td>-0.563369</td>\n",
       "      <td>-1.662660</td>\n",
       "      <td>-0.395980</td>\n",
       "      <td>0.886405</td>\n",
       "      <td>-0.886405</td>\n",
       "    </tr>\n",
       "    <tr>\n",
       "      <th>5</th>\n",
       "      <td>-1.636808</td>\n",
       "      <td>-1.209269</td>\n",
       "      <td>-1.662660</td>\n",
       "      <td>1.001596</td>\n",
       "      <td>0.886405</td>\n",
       "      <td>-0.886405</td>\n",
       "    </tr>\n",
       "    <tr>\n",
       "      <th>6</th>\n",
       "      <td>-1.619488</td>\n",
       "      <td>-0.276302</td>\n",
       "      <td>-1.624491</td>\n",
       "      <td>-1.715913</td>\n",
       "      <td>0.886405</td>\n",
       "      <td>-0.886405</td>\n",
       "    </tr>\n",
       "    <tr>\n",
       "      <th>7</th>\n",
       "      <td>-1.602167</td>\n",
       "      <td>-1.137502</td>\n",
       "      <td>-1.624491</td>\n",
       "      <td>1.700384</td>\n",
       "      <td>0.886405</td>\n",
       "      <td>-0.886405</td>\n",
       "    </tr>\n",
       "    <tr>\n",
       "      <th>8</th>\n",
       "      <td>-1.584846</td>\n",
       "      <td>1.804932</td>\n",
       "      <td>-1.586321</td>\n",
       "      <td>-1.832378</td>\n",
       "      <td>-1.128152</td>\n",
       "      <td>1.128152</td>\n",
       "    </tr>\n",
       "    <tr>\n",
       "      <th>9</th>\n",
       "      <td>-1.567526</td>\n",
       "      <td>-0.635135</td>\n",
       "      <td>-1.586321</td>\n",
       "      <td>0.846310</td>\n",
       "      <td>0.886405</td>\n",
       "      <td>-0.886405</td>\n",
       "    </tr>\n",
       "  </tbody>\n",
       "</table>\n",
       "</div>"
      ],
      "text/plain": [
       "   CustomerID       Age  Annual Income (k$)  Spending Score (1-100)  \\\n",
       "0   -1.723412 -1.424569           -1.738999               -0.434801   \n",
       "1   -1.706091 -1.281035           -1.738999                1.195704   \n",
       "2   -1.688771 -1.352802           -1.700830               -1.715913   \n",
       "3   -1.671450 -1.137502           -1.700830                1.040418   \n",
       "4   -1.654129 -0.563369           -1.662660               -0.395980   \n",
       "5   -1.636808 -1.209269           -1.662660                1.001596   \n",
       "6   -1.619488 -0.276302           -1.624491               -1.715913   \n",
       "7   -1.602167 -1.137502           -1.624491                1.700384   \n",
       "8   -1.584846  1.804932           -1.586321               -1.832378   \n",
       "9   -1.567526 -0.635135           -1.586321                0.846310   \n",
       "\n",
       "   Genre_Female  Genre_Male  \n",
       "0     -1.128152    1.128152  \n",
       "1     -1.128152    1.128152  \n",
       "2      0.886405   -0.886405  \n",
       "3      0.886405   -0.886405  \n",
       "4      0.886405   -0.886405  \n",
       "5      0.886405   -0.886405  \n",
       "6      0.886405   -0.886405  \n",
       "7      0.886405   -0.886405  \n",
       "8     -1.128152    1.128152  \n",
       "9      0.886405   -0.886405  "
      ]
     },
     "execution_count": 122,
     "metadata": {},
     "output_type": "execute_result"
    }
   ],
   "source": [
    "scaler = StandardScaler()\n",
    "X = scaler.fit_transform(df)\n",
    "data_MallCus_preprocessed = pd.DataFrame(data=X, columns=df.columns)\n",
    "data_MallCus_preprocessed.head(10)"
   ]
  },
  {
   "cell_type": "markdown",
   "id": "6965282f",
   "metadata": {},
   "source": [
    "# PCA"
   ]
  },
  {
   "cell_type": "code",
   "execution_count": 123,
   "id": "c8e4321a",
   "metadata": {
    "scrolled": false
   },
   "outputs": [
    {
     "data": {
      "text/plain": [
       "array([[-0.40570616,  2.73366829],\n",
       "       [-0.49555644,  2.55023998],\n",
       "       [-2.46129144,  1.08916834],\n",
       "       [-2.62029552,  0.78210142],\n",
       "       [-2.46529865,  0.99417765],\n",
       "       [-2.58936429,  0.73816778],\n",
       "       [-2.3280806 ,  1.14675996],\n",
       "       [-2.59769471,  0.62546057],\n",
       "       [ 0.0195787 ,  3.15004731],\n",
       "       [-2.4774651 ,  0.75040331],\n",
       "       [ 0.02077605,  3.10821804],\n",
       "       [-2.50791049,  0.65353153],\n",
       "       [-2.16611441,  1.21715073],\n",
       "       [-2.46860428,  0.61476646],\n",
       "       [-0.06302316,  2.78176621],\n",
       "       [-0.29025244,  2.33387656],\n",
       "       [-2.27177583,  0.85824569],\n",
       "       [-0.23334129,  2.33577224],\n",
       "       [ 0.04679464,  2.74547649],\n",
       "       [-2.3738215 ,  0.50044543],\n",
       "       [-0.01198352,  2.52398567],\n",
       "       [-0.14562418,  2.24972689],\n",
       "       [-2.03023027,  0.95670346],\n",
       "       [-0.08576237,  2.26488038],\n",
       "       [-1.94975135,  0.90755543],\n",
       "       [-0.0502409 ,  2.12478357],\n",
       "       [-2.02028041,  0.7245485 ],\n",
       "       [ 0.04571214,  2.25670347],\n",
       "       [-2.00733216,  0.64423534],\n",
       "       [-2.21815654,  0.22392611],\n",
       "       [ 0.36081678,  2.67551719],\n",
       "       [-2.15870574,  0.2303988 ],\n",
       "       [ 0.39671629,  2.53113914],\n",
       "       [ 0.02370005,  1.80065755],\n",
       "       [-1.80779339,  0.66500213],\n",
       "       [-2.09600699,  0.09430205],\n",
       "       [-1.81399518,  0.54819115],\n",
       "       [-2.00234084,  0.17335631],\n",
       "       [-1.79645669,  0.37171482],\n",
       "       [-1.98500785, -0.00746042],\n",
       "       [-1.65604951,  0.55485737],\n",
       "       [ 0.19946505,  1.67691464],\n",
       "       [ 0.47464698,  2.12147224],\n",
       "       [-1.83422504,  0.07782992],\n",
       "       [-1.66167047,  0.38319593],\n",
       "       [-1.86020766, -0.02290901],\n",
       "       [-1.69285765,  0.22929557],\n",
       "       [-1.76811958,  0.04734615],\n",
       "       [-1.73860682,  0.07903763],\n",
       "       [-1.72179226,  0.08784403],\n",
       "       [-1.6239598 ,  0.15510018],\n",
       "       [ 0.4683907 ,  1.72880324],\n",
       "       [-1.67707514, -0.05717744],\n",
       "       [ 0.6181674 ,  1.9258543 ],\n",
       "       [-1.5531531 ,  0.13805168],\n",
       "       [ 0.62811775,  1.88491236],\n",
       "       [-1.52846821,  0.0848457 ],\n",
       "       [ 0.74721327,  2.02269882],\n",
       "       [-1.58877719, -0.19807325],\n",
       "       [ 0.72540989,  1.81711593],\n",
       "       [ 0.78426423,  1.91657533],\n",
       "       [ 0.56534397,  1.44793019],\n",
       "       [-1.36295357,  0.10296238],\n",
       "       [-1.43135265, -0.05669352],\n",
       "       [ 0.83126688,  1.79696471],\n",
       "       [ 0.61646434,  1.34169568],\n",
       "       [-1.41723868, -0.16434317],\n",
       "       [-1.29194271,  0.06279947],\n",
       "       [ 0.64442931,  1.32264049],\n",
       "       [-1.43560373, -0.27880586],\n",
       "       [ 0.91675817,  1.76537157],\n",
       "       [-1.32258203, -0.15891338],\n",
       "       [-1.25685056, -0.1027515 ],\n",
       "       [-1.26680496, -0.14417398],\n",
       "       [ 1.00512033,  1.5611653 ],\n",
       "       [ 0.84680636,  1.21961183],\n",
       "       [-1.23418823, -0.37761243],\n",
       "       [ 0.94063077,  1.35563551],\n",
       "       [-1.31490883, -0.59188945],\n",
       "       [-1.1648    , -0.31903581],\n",
       "       [ 1.03290873,  1.46836732],\n",
       "       [ 0.9451541 ,  1.2678732 ],\n",
       "       [ 1.11890871,  1.58631955],\n",
       "       [-1.15207422, -0.39300791],\n",
       "       [-1.28966007, -0.68926445],\n",
       "       [ 1.04426059,  1.3624817 ],\n",
       "       [-1.07197468, -0.4653295 ],\n",
       "       [-1.20489226, -0.7611128 ],\n",
       "       [-1.13857726, -0.70489177],\n",
       "       [-1.02326732, -0.50467883],\n",
       "       [-0.94013641, -0.4121966 ],\n",
       "       [ 1.05523084,  0.95297497],\n",
       "       [ 1.19485033,  1.15917276],\n",
       "       [-0.98721226, -0.64699708],\n",
       "       [-1.02043442, -0.7382935 ],\n",
       "       [ 1.10280276,  0.89901455],\n",
       "       [-0.9500503 , -0.64352212],\n",
       "       [-1.03976103, -0.8485341 ],\n",
       "       [ 1.27680743,  1.11426267],\n",
       "       [ 1.14097218,  0.81818359],\n",
       "       [-0.97693566, -0.91316866],\n",
       "       [-0.8700007 , -0.7181243 ],\n",
       "       [ 1.36758619,  1.15107357],\n",
       "       [ 1.2012423 ,  0.78710826],\n",
       "       [ 1.30992786,  0.98233009],\n",
       "       [-0.94935142, -0.98285223],\n",
       "       [-0.74229577, -0.64023126],\n",
       "       [ 1.39851338,  1.02477551],\n",
       "       [ 1.4768958 ,  1.1564515 ],\n",
       "       [ 1.46302919,  1.1059933 ],\n",
       "       [ 1.45619796,  1.069207  ],\n",
       "       [-0.92463895, -1.13291541],\n",
       "       [-0.78367987, -0.93522094],\n",
       "       [ 1.30534196,  0.62950555],\n",
       "       [-0.85594526, -1.18399639],\n",
       "       [-0.84870572, -1.1934389 ],\n",
       "       [-0.62529241, -0.77060849],\n",
       "       [-0.72104399, -0.98055242],\n",
       "       [-0.62911282, -0.93981187],\n",
       "       [-0.66134044, -1.02236835],\n",
       "       [ 1.4223966 ,  0.52886371],\n",
       "       [-0.65646936, -1.07246432],\n",
       "       [-0.65088593, -1.18734235],\n",
       "       [ 1.44540976,  0.40835846],\n",
       "       [-0.62077671, -1.24863758],\n",
       "       [-0.69889036, -1.40495872],\n",
       "       [ 1.66356414,  0.63160272],\n",
       "       [ 1.50552163,  0.32031371],\n",
       "       [ 1.81209354,  0.86820246],\n",
       "       [ 1.56296907,  0.37489757],\n",
       "       [ 1.77887003,  0.74945123],\n",
       "       [ 1.58311096,  0.36522574],\n",
       "       [-0.52741645, -1.3696979 ],\n",
       "       [-0.58658556, -1.49386161],\n",
       "       [ 1.73341816,  0.44336602],\n",
       "       [-0.60586358, -1.62927644],\n",
       "       [-0.32489356, -1.13149825],\n",
       "       [ 1.63814085,  0.21311734],\n",
       "       [ 1.7647577 ,  0.35320356],\n",
       "       [-0.4897214 , -1.55965739],\n",
       "       [-0.19559493, -1.08294236],\n",
       "       [ 1.65312274,  0.04274544],\n",
       "       [-0.38197156, -1.5463052 ],\n",
       "       [-0.47552855, -1.73442884],\n",
       "       [ 1.8853149 ,  0.28037146],\n",
       "       [ 1.69075587, -0.0907737 ],\n",
       "       [ 1.94341183,  0.36093854],\n",
       "       [-0.39397975, -1.73311012],\n",
       "       [-0.22786276, -1.50694791],\n",
       "       [ 1.7840413 , -0.06234781],\n",
       "       [ 2.01771973,  0.34424497],\n",
       "       [ 1.82724545, -0.0264861 ],\n",
       "       [-0.14653375, -1.44437853],\n",
       "       [-0.30790493, -1.7646441 ],\n",
       "       [-0.10724181, -1.41755254],\n",
       "       [-0.37472729, -1.9429557 ],\n",
       "       [ 2.07831794,  0.30660782],\n",
       "       [-0.31765787, -1.8840906 ],\n",
       "       [ 2.08047685,  0.26055646],\n",
       "       [-0.28931353, -1.87997223],\n",
       "       [-0.05085362, -1.49961117],\n",
       "       [-0.28631833, -1.97425306],\n",
       "       [ 2.08589799,  0.0063446 ],\n",
       "       [-0.25259471, -2.06189831],\n",
       "       [ 2.25654455,  0.09080551],\n",
       "       [-0.09979158, -2.03540058],\n",
       "       [ 2.26870376,  0.0060928 ],\n",
       "       [-0.13118426, -2.19364134],\n",
       "       [ 0.0800627 , -1.88515198],\n",
       "       [ 2.15525224, -0.33046685],\n",
       "       [ 2.32602323, -0.03824034],\n",
       "       [ 2.12243974, -0.44053728],\n",
       "       [ 2.33130532, -0.07965552],\n",
       "       [ 2.13087798, -0.46435426],\n",
       "       [ 0.2517292 , -1.7525049 ],\n",
       "       [-0.02474777, -2.29609782],\n",
       "       [ 2.46604699,  0.03936422],\n",
       "       [ 2.19736146, -0.49911928],\n",
       "       [ 2.57493446, -0.06897591],\n",
       "       [ 2.28184709, -0.64448963],\n",
       "       [ 0.33814903, -2.21803312],\n",
       "       [ 0.18635286, -2.52004978],\n",
       "       [ 2.63144839, -0.3325651 ],\n",
       "       [ 0.20067369, -2.59590423],\n",
       "       [ 0.4041292 , -2.29252428],\n",
       "       [ 2.39197647, -0.90219767],\n",
       "       [ 0.550797  , -2.16570045],\n",
       "       [ 2.50676304, -0.84771878],\n",
       "       [ 0.56025832, -2.3119596 ],\n",
       "       [ 0.3729072 , -2.67805449],\n",
       "       [ 0.52919642, -2.42185256],\n",
       "       [ 0.4112046 , -2.65996846],\n",
       "       [ 2.92762976, -0.82232893],\n",
       "       [ 0.57036504, -2.9313509 ],\n",
       "       [ 0.92981108, -2.66014753],\n",
       "       [ 0.72368795, -3.06702149],\n",
       "       [ 1.0094372 , -2.87592258],\n",
       "       [ 3.01876865, -1.44886153],\n",
       "       [ 3.3584646 , -1.42907163],\n",
       "       [ 3.19221964, -1.75415084]])"
      ]
     },
     "execution_count": 123,
     "metadata": {},
     "output_type": "execute_result"
    }
   ],
   "source": [
    "pca = PCA(n_components=None)\n",
    "dfx_pca = pca.fit(data_MallCus_preprocessed)\n",
    "dfx_pca.explained_variance_ratio_\n",
    "pca = PCA(n_components=2)\n",
    "data_MallCus_PCA = pca.fit_transform(data_MallCus_preprocessed)\n",
    "data_MallCus_PCA"
   ]
  },
  {
   "cell_type": "code",
   "execution_count": 124,
   "id": "ac24b14f",
   "metadata": {
    "scrolled": false
   },
   "outputs": [
    {
     "name": "stdout",
     "output_type": "stream",
     "text": [
      "   Principal Component 1  Principal Component 2\n",
      "0             -46.903574               1.099247\n",
      "1             -35.924389              41.638826\n",
      "2             -54.564848             -31.014689\n",
      "3             -36.004798              37.516505\n",
      "4             -44.711709               1.541657\n"
     ]
    },
    {
     "data": {
      "image/png": "[encoded data removed]",
      "text/plain": [
       "<Figure size 720x432 with 1 Axes>"
      ]
     },
     "metadata": {
      "needs_background": "light"
     },
     "output_type": "display_data"
    }
   ],
   "source": [
    "# Mengambil fitur yang akan digunakan untuk PCA\n",
    "features = data[['Annual Income (k$)', 'Spending Score (1-100)']]\n",
    "\n",
    "# Menerapkan PCA dengan jumlah komponen (n_components) yang diinginkan\n",
    "pca = PCA(n_components=2)\n",
    "features_pca = pca.fit_transform(features)\n",
    "\n",
    "# Membuat DataFrame baru yang berisi hasil PCA\n",
    "pca_df = pd.DataFrame(features_pca, columns=['Principal Component 1', 'Principal Component 2'])\n",
    "\n",
    "# Menampilkan hasil PCA\n",
    "print(pca_df.head())\n",
    "\n",
    "# Visualisasi hasil PCA\n",
    "plt.figure(figsize=(10, 6))\n",
    "plt.scatter(features_pca[:, 0], features_pca[:, 1])\n",
    "plt.title('PCA of Mall Customers Data')\n",
    "plt.xlabel('Principal Component 1')\n",
    "plt.ylabel('Principal Component 2')\n",
    "plt.show()"
   ]
  },
  {
   "cell_type": "code",
   "execution_count": 125,
   "id": "27b312ab",
   "metadata": {},
   "outputs": [
    {
     "name": "stderr",
     "output_type": "stream",
     "text": [
      "C:\\Users\\Inge\\anaconda3\\lib\\site-packages\\sklearn\\cluster\\_kmeans.py:881: UserWarning: KMeans is known to have a memory leak on Windows with MKL, when there are less chunks than available threads. You can avoid it by setting the environment variable OMP_NUM_THREADS=1.\n",
      "  warnings.warn(\n"
     ]
    },
    {
     "data": {
      "image/png": "[encoded data removed]",
      "text/plain": [
       "<Figure size 432x288 with 1 Axes>"
      ]
     },
     "metadata": {
      "needs_background": "light"
     },
     "output_type": "display_data"
    }
   ],
   "source": [
    "inertia = []\n",
    "for k in range(1, 10):\n",
    "    kmeans = KMeans(n_clusters=k, random_state=42).fit(data_MallCus_PCA)\n",
    "    inertia.append(kmeans.inertia_)\n",
    "plt.plot(range(1, 10), inertia, marker=\"o\")\n",
    "plt.xlabel(\"Number of clusters\")\n",
    "plt.ylabel(\"Inertia\")\n",
    "plt.title(\"Elbow Method\")\n",
    "plt.show()"
   ]
  },
  {
   "cell_type": "code",
   "execution_count": 130,
   "id": "4bf41e00",
   "metadata": {},
   "outputs": [
    {
     "data": {
      "image/png": "[encoded data removed]",
      "text/plain": [
       "<Figure size 432x288 with 1 Axes>"
      ]
     },
     "metadata": {
      "needs_background": "light"
     },
     "output_type": "display_data"
    }
   ],
   "source": [
    "# Misalkan data_MallCus_PCA adalah data yang sudah di-transform dengan PCA\n",
    "kmeans = KMeans(n_clusters=4, random_state=42).fit(data_MallCus_PCA)\n",
    "\n",
    "# Visualisasi hasil klaster\n",
    "plt.scatter(data_MallCus_PCA[:, 0], data_MallCus_PCA[:, 1], c=kmeans.labels_, cmap=\"viridis\")\n",
    "plt.scatter(kmeans.cluster_centers_[:, 0], kmeans.cluster_centers_[:, 1], marker='o', s=200, c='red', label='Centroids')\n",
    "plt.xlabel(\"First Principal Component\")\n",
    "plt.ylabel(\"Second Principal Component\")\n",
    "plt.title(f\"K-means Clustering (K={4})\")\n",
    "\n",
    "# Menambahkan legenda\n",
    "plt.legend()\n",
    "\n",
    "# Menampilkan plot\n",
    "plt.show()\n"
   ]
  },
  {
   "cell_type": "code",
   "execution_count": 132,
   "id": "287ecc63",
   "metadata": {},
   "outputs": [
    {
     "name": "stdout",
     "output_type": "stream",
     "text": [
      "Nilai Centroid:\n",
      "   Annual Income (k$)  Spending Score (1-100)\n",
      "0           26.304348               20.913043\n",
      "1           86.538462               82.128205\n",
      "2           87.000000               18.631579\n",
      "3           48.260000               56.480000\n"
     ]
    }
   ],
   "source": [
    "# Mengambil fitur yang akan digunakan (contoh: Annual Income dan Spending Score)\n",
    "features = data[['Annual Income (k$)', 'Spending Score (1-100)']]\n",
    "\n",
    "# Menentukan jumlah kluster yang diinginkan\n",
    "num_clusters = 4\n",
    "\n",
    "# Menerapkan K-Means\n",
    "kmeans = KMeans(n_clusters=num_clusters, random_state=42)\n",
    "kmeans.fit(features)\n",
    "\n",
    "# Mendapatkan nilai centroid\n",
    "centroids = kmeans.cluster_centers_\n",
    "\n",
    "# Menampilkan nilai centroid\n",
    "print(\"Nilai Centroid:\")\n",
    "print(pd.DataFrame(centroids, columns=['Annual Income (k$)', 'Spending Score (1-100)']))"
   ]
  },
  {
   "cell_type": "code",
   "execution_count": 115,
   "id": "c717f752",
   "metadata": {},
   "outputs": [],
   "source": [
    "kmeans = KMeans(n_clusters=2)"
   ]
  },
  {
   "cell_type": "code",
   "execution_count": 116,
   "id": "7b8815b4",
   "metadata": {
    "scrolled": true
   },
   "outputs": [
    {
     "data": {
      "text/plain": [
       "KMeans(n_clusters=2)"
      ]
     },
     "execution_count": 116,
     "metadata": {},
     "output_type": "execute_result"
    }
   ],
   "source": [
    "kmeans.fit(X_std)"
   ]
  },
  {
   "cell_type": "markdown",
   "id": "db6ed68d",
   "metadata": {},
   "source": [
    "1. Algoritma K-Means mengelompokkan data dengan mencoba memisahkan sample ke dalam n kelompok dengan varian yang sama, meminimalkan kriteria, yang dikenal dengan inersia.\n",
    "2. Inersia merupakan jumlah kuadrat dalam klaster.\n",
    "3. Kita dapat melihat ada dimana centroid dari masing-masing cluster"
   ]
  },
  {
   "cell_type": "code",
   "execution_count": 117,
   "id": "7ce7583a",
   "metadata": {},
   "outputs": [
    {
     "data": {
      "text/plain": [
       "array([[-0.81102231, -0.04220977,  0.24178539, -0.75495496, -0.00924323],\n",
       "       [ 0.89639308,  0.04665291, -0.26723649,  0.8344239 ,  0.0102162 ]])"
      ]
     },
     "execution_count": 117,
     "metadata": {},
     "output_type": "execute_result"
    }
   ],
   "source": [
    "kmeans.cluster_centers_"
   ]
  },
  {
   "cell_type": "code",
   "execution_count": null,
   "id": "7619235d",
   "metadata": {},
   "outputs": [],
   "source": []
  },
  {
   "cell_type": "markdown",
   "id": "fd989501",
   "metadata": {},
   "source": [
    "# Inersia"
   ]
  },
  {
   "cell_type": "markdown",
   "id": "3444ebb5",
   "metadata": {},
   "source": [
    "1. Inersia bukan matriks yang dinormalkan\n",
    "2. Semakin kecil nilai dari inersia maka cluster yang terbentuk akan semakin bagus, dan nilai nol merupakan titik optimal.\n",
    "3. Akantetapi jika data kita berdimensi tinggi, maka inersia akan semakin tinggi juga hal ini karena jarak euclidian cenderung meningkat. hal ini sering dinamakan kutukan dimensi.\n",
    "4. Salah satu solusinya yakni menerapkan dimensional reduction (PCA)."
   ]
  },
  {
   "cell_type": "code",
   "execution_count": null,
   "id": "52bac947",
   "metadata": {},
   "outputs": [],
   "source": [
    "kmeans.inertia_"
   ]
  },
  {
   "cell_type": "code",
   "execution_count": null,
   "id": "1d93fb48",
   "metadata": {},
   "outputs": [],
   "source": []
  }
 ],
 "metadata": {
  "kernelspec": {
   "display_name": "Python 3 (ipykernel)",
   "language": "python",
   "name": "python3"
  },
  "language_info": {
   "codemirror_mode": {
    "name": "ipython",
    "version": 3
   },
   "file_extension": ".py",
   "mimetype": "text/x-python",
   "name": "python",
   "nbconvert_exporter": "python",
   "pygments_lexer": "ipython3",
   "version": "3.9.7"
  }
 },
 "nbformat": 4,
 "nbformat_minor": 5
}
